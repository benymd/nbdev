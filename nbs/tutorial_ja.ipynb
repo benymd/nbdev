{
 "cells": [
  {
   "cell_type": "code",
   "execution_count": null,
   "metadata": {},
   "outputs": [],
   "source": [
    "# default_exp tutorial_ja"
   ]
  },
  {
   "cell_type": "markdown",
   "metadata": {},
   "source": [
    "# nbdev チュートリアル\n",
    "\n",
    "> ステップバイステップガイド\n",
    "\n",
    "- image: images/nbdev_source.gif"
   ]
  },
  {
   "cell_type": "markdown",
   "metadata": {},
   "source": [
    "nbdevは *探索的プログラミング* のためのシステムです。\n",
    "その意味については、[nbdevローンチポスト](https://www.fast.ai/2019/12/02/nbdev/) をご覧ください。\n",
    "私たちは主に（少なくとも暗黙的に）アクセスできる基本的なツールに関連付けられているコーディング技術を教えてきたので、\n",
    "実際のところ、この方法でのプログラミングは、多くの人が精通しているプログラミングの種類とは大きく異なると感じる可能性があります。\n",
    "「ノートファースト」の方法でプログラミングすると、以前（vscode、Visual Studio、vim、PyCharm、および同様のツールを使用したとき）よりも2〜3倍生産性が高まることがわかりました。\n",
    "\n",
    "このチュートリアルでは、nbdevシステムの基本をできるだけ迅速かつ簡単に使用できるようにします。\n",
    "このビデオでは、チュートリアルを順を追ってご覧いただけます（フルスクリーンで表示するには、ビデオの右下にある小さな四角をクリックしてください。別のYoutubeウィンドウで表示するには、Youtubeロゴをクリックしてください）。"
   ]
  },
  {
   "cell_type": "markdown",
   "metadata": {},
   "source": [
    "<iframe width=\"560\" height=\"315\" src=\"https://www.youtube-nocookie.com/embed/Hrs7iEYmRmg\" frameborder=\"0\" allow=\"accelerometer; autoplay; encrypted-media; gyroscope; picture-in-picture\" allowfullscreen></iframe>"
   ]
  },
  {
   "cell_type": "markdown",
   "metadata": {},
   "source": [
    "## リポジトリの設定"
   ]
  },
  {
   "cell_type": "markdown",
   "metadata": {},
   "source": [
    "### テンプレート"
   ]
  },
  {
   "cell_type": "markdown",
   "metadata": {},
   "source": [
    "新しいプロジェクトリポジトリを作成するには、[nbdev template](https://github.com/fastai/nbdev_template/generate) をクリックしてください（このリンクを機能させるには、GitHubにログインする必要があります）。 必要な情報を入力して、*Create repository from template* をクリックします。\n",
    "\n",
    "**注意：** プロジェクトの名前は、nbdevによって生成されたPythonパッケージの名前になります。 そのため、単語間に _ダッシュなし_ の短い、すべて小文字の名前を選択することをお勧めします（アンダースコアは使用できます）。\n",
    "\n",
    "次に、ターミナルを開き、作成したリポジトリをcloneします。"
   ]
  },
  {
   "cell_type": "markdown",
   "metadata": {},
   "source": [
    "### Github pages"
   ]
  },
  {
   "cell_type": "markdown",
   "metadata": {},
   "source": [
    "nbdevシステムは、ドキュメント化に[jekyll](https://jekyllrb.com/) を使用します。\n",
    "[GitHub Pages は Jekyll をサポートする](https://help.github.com/en/github/working-with-github-pages/setting-up-a-github-pages-site-with-jekyll) ので、\n",
    "設定を追加しなくても、[Github Pages](https://pages.github.com/)上であなたのサイトを無料でホストできます。\n",
    "したがって、これが推奨されるアプローチです（ただし、必須ではありません。Jekyllホスティングは正常に機能します）。\n",
    "\n",
    "プロジェクトリポジトリでGithub Pagesを有効にするには、\n",
    "Githubで *Setting* をクリックします。\n",
    "次に、*Github Pages* までスクロールします。\n",
    "\"Source\" を *Master branch /docs folder* に設定します。\n",
    "保存したら、そのセクションまで下にスクロールすると、Githubに新しいWebサイトへのリンクが表示されます。\n",
    "そのURLをコピーしてから、メインのリポジトリページに戻ります。\n",
    "説明の横にある \"edit\" をクリックして、URLを \"website\" セクションに貼り付けます。\n",
    "そこにいる間、先に進んでプロジェクトの説明も入力してください。"
   ]
  },
  {
   "cell_type": "markdown",
   "metadata": {},
   "source": [
    "## settings.ini の編集"
   ]
  },
  {
   "cell_type": "markdown",
   "metadata": {},
   "source": [
    "次に、クローンしたリポジトリの `settings.ini` ファイルを編集します。\n",
    "このファイルには、ライブラリをパッケージ化する準備が整ったときに必要なすべての情報が含まれています。\n",
    "基本的な構造（`settings.ini`で関連情報を変更すればパーソナライズできます）は、リポジトリのルートにノートブックが含まれることです。\n",
    "`docs`フォルダーには自動生成されたドキュメントが含まれ、\n",
    "あなたが指定した名前のフォルダーには、自動生成されたモジュールが含まれます。"
   ]
  },
  {
   "cell_type": "markdown",
   "metadata": {},
   "source": [
    "`settings.ini` にはコメントアウトされた行があります。\n",
    "それらのコメントを外し、必要に応じて各値を設定します。\n",
    "```\n",
    "# lib_name = your_project_name\n",
    "# user = your_github_username\n",
    "# description = A description of your project\n",
    "# keywords = some keywords\n",
    "# author = Your Name\n",
    "# author_email = email@example.com\n",
    "# copyright = Your Name or Company Name\n",
    "```\n",
    "\n",
    "他にも後で変更できる設定がいくつかあります。"
   ]
  },
  {
   "cell_type": "markdown",
   "metadata": {},
   "source": [
    "## git hooks のインストール"
   ]
  },
  {
   "cell_type": "markdown",
   "metadata": {},
   "source": [
    "Jupyter Notebookはgitの競合で問題を引き起こす可能性がありますが、`nbdev` を使用すると作業がはるかに簡単になります。\n",
    "最初のステップとして、プロジェクトフォルダーからターミナルで `nbdev_install_git_hooks`を実行します。\n",
    "これにより、コミット時にノートブックからメタデータを削除するgitフックが設定され、競合が発生する可能性が大幅に減少します。\n",
    "\n",
    "ただし、後で競合が発生した場合は、`nbdev_fix_merge filename.ipynb` を実行するだけです。\n",
    "これにより、セル出力の競合がバージョンで置き換えられます。\n",
    "入力セルに競合がある場合は、両方のセルが標準の競合マーカー（`=====`など）とともにマージされたファイルに含まれます。\n",
    "次に、Jupyterでノートブックを開き、保持するバージョンを選択できます。"
   ]
  },
  {
   "cell_type": "markdown",
   "metadata": {},
   "source": [
    "## 00_core.ipynb の編集"
   ]
  },
  {
   "cell_type": "markdown",
   "metadata": {},
   "source": [
    "ここで、 `jupyter notebook`を実行し、`00_core.ipynb` をクリックします\n",
    "（ここで行うように、ノートブック名を数字で始める必要はありません。ただし、プロジェクトを作成した順序を示すと便利です）。 \n",
    "次のようなものが表示されます。\n",
    "\n",
    "```python\n",
    "# default_exp core\n",
    "```\n",
    "\n",
    "**module name here**\n",
    "\n",
    "> API details.\n",
    "\n",
    "```python\n",
    "#hide\n",
    "from nbdev.showdoc import *\n",
    "```\n",
    "\n",
    "これらの特別なセルの意味を説明しましょう。"
   ]
  },
  {
   "cell_type": "markdown",
   "metadata": {},
   "source": [
    "### セルコメントの追加"
   ]
  },
  {
   "cell_type": "markdown",
   "metadata": {},
   "source": [
    "特定の特別なコメントがあります、\n",
    "セルの最初の行として配置した場合、nbdevに重要な情報を提供します。\n",
    "\n",
    "セル `#default_exp core`は、生成されたモジュールの名前を定義します(lib_name/core.py)。\n",
    "Pythonモジュールに含めるセルの場合、セルの最初の行として \"#export\" と入力します。\n",
    "これらのセルのそれぞれがモジュールに追加されます。"
   ]
  },
  {
   "cell_type": "markdown",
   "metadata": {},
   "source": [
    "### 関数の追加"
   ]
  },
  {
   "cell_type": "markdown",
   "metadata": {},
   "source": [
    "このノートブックに関数を追加してみましょう。例：\n",
    "\n",
    "```python\n",
    "#export\n",
    "def say_hello(to):\n",
    "    \"Say hello to somebody\"\n",
    "    return f'Hello {to}!'\n",
    "```\n",
    "\n",
    "上部に`#export`が含まれていることに注意してください。これは、モジュールとドキュメントに含まれることを意味します。\n",
    "ドキュメントは次のようになります。"
   ]
  },
  {
   "cell_type": "code",
   "execution_count": null,
   "metadata": {},
   "outputs": [],
   "source": [
    "#export\n",
    "def say_hello(to):\n",
    "    \"Say hello to somebody\"\n",
    "    return f'Hello {to}!'"
   ]
  },
  {
   "cell_type": "markdown",
   "metadata": {},
   "source": [
    "### 例とテストの追加"
   ]
  },
  {
   "cell_type": "markdown",
   "metadata": {},
   "source": [
    "実際の関数の例を示すことをお勧めします。\n",
    "通常のコードセルを含めるだけで、ドキュメントに（出力とともに）表示されます。例："
   ]
  },
  {
   "cell_type": "code",
   "execution_count": null,
   "metadata": {},
   "outputs": [
    {
     "data": {
      "text/plain": [
       "'Hello Sylvain!'"
      ]
     },
     "execution_count": null,
     "metadata": {},
     "output_type": "execute_result"
    }
   ],
   "source": [
    "say_hello(\"Sylvain\")"
   ]
  },
  {
   "cell_type": "markdown",
   "metadata": {},
   "source": [
    "例ではプロットや画像などを出力でき、それらはすべてドキュメントに表示されます。例："
   ]
  },
  {
   "cell_type": "code",
   "execution_count": null,
   "metadata": {},
   "outputs": [
    {
     "data": {
      "image/svg+xml": [
       "<svg height=\"100\"><circle cx=\"50\" cy=\"50\" r=\"40\"/></svg>"
      ],
      "text/plain": [
       "<IPython.core.display.SVG object>"
      ]
     },
     "metadata": {},
     "output_type": "display_data"
    }
   ],
   "source": [
    "from IPython.display import display,SVG\n",
    "display(SVG('<svg height=\"100\"><circle cx=\"50\" cy=\"50\" r=\"40\"/></svg>'))"
   ]
  },
  {
   "cell_type": "markdown",
   "metadata": {},
   "source": [
    "テストを含めることもできます。"
   ]
  },
  {
   "cell_type": "code",
   "execution_count": null,
   "metadata": {},
   "outputs": [],
   "source": [
    "assert say_hello(\"Jeremy\")==\"Hello Jeremy!\""
   ]
  },
  {
   "cell_type": "markdown",
   "metadata": {},
   "source": [
    "ノートブックを作成するときに、マークダウンの見出しも追加する必要があります。\n",
    "これの1つの利点は、目次がドキュメントに自動的に作成されることです。"
   ]
  },
  {
   "cell_type": "markdown",
   "metadata": {},
   "source": [
    "## lib のビルド"
   ]
  },
  {
   "cell_type": "markdown",
   "metadata": {},
   "source": [
    "これで、Pythonモジュールを作成できます。\n",
    "これを行うには、プロジェクトフォルダー内の任意の場所でターミナルから `nbdev_build_lib` を実行します。\n",
    "\n",
    "```\n",
    "$ nbdev_build_lib\n",
    "Converted 00_core.ipynb.\n",
    "Converted index.ipynb.\n",
    "```"
   ]
  },
  {
   "cell_type": "markdown",
   "metadata": {},
   "source": [
    "## index.ipynb の編集"
   ]
  },
  {
   "cell_type": "markdown",
   "metadata": {},
   "source": [
    "これで、ドキュメントのホームページとreadmeファイルを作成する準備ができました。\n",
    "これらはどちらも *index.ipynb* から自動的に生成されます。\n",
    "クリックして今すぐ開いてください。\n",
    "\n",
    "ライブラリをインポートするための行がすでにあることがわかります。`settings.ini` で指定した名前を使用するように変更してください。\n",
    "次にいくつかの例を含め、モジュールの使用方法に関する情報を追加します。\n",
    "これらの例は、実際の出力を備えた実際のノートブックコードセルである必要があります。"
   ]
  },
  {
   "cell_type": "markdown",
   "metadata": {},
   "source": [
    "## docs のビルド"
   ]
  },
  {
   "cell_type": "markdown",
   "metadata": {},
   "source": [
    "これでドキュメントを作成できます。\n",
    "これを行うには、プロジェクトフォルダー内の任意の場所でターミナルから `nbdev_build_docs` を実行します。\n",
    "\n",
    "```\n",
    "$ nbdev_build_docs\n",
    "converting: /home/jhoward/git/nbdev/nbs/00_core.ipynb\n",
    "converting: /home/jhoward/git/nbdev/nbs/index.ipynb\n",
    "```"
   ]
  },
  {
   "cell_type": "markdown",
   "metadata": {},
   "source": [
    "## Github へのコミット"
   ]
  },
  {
   "cell_type": "markdown",
   "metadata": {},
   "source": [
    "`git commit`と`git push`ができるようになりました。\n",
    "Githubがコミットを処理するまで1〜2分待ちます。\n",
    "次に、Github Webサイトにアクセスして、結果を確認します。"
   ]
  },
  {
   "cell_type": "markdown",
   "metadata": {},
   "source": [
    "### CI"
   ]
  },
  {
   "cell_type": "markdown",
   "metadata": {},
   "source": [
    "プロジェクトのGithubメインページに戻り、*1 commit* （または *2 commits* など）と表示されている場所をクリックします。\n",
    "うまくいけば、最新のコミットの横に緑色のチェックマークが表示されます。 \n",
    "これは、ドキュメントサイトが正しく構築され、モジュールのテストがすべて成功したことを意味します。 これは、[GitHub actions](https://github.com/features/actions) で*継続的インテグレーション（CI）*を使用してチェックされます。\n",
    "これは以下を行います：\n",
    "\n",
    "- ノートブックが読み取り可能であることを確認します\n",
    "- マージの競合を回避するために、ノートブックから不要なメタデータが削除されていることを確認します\n",
    "- ノートブックとエクスポートされたライブラリの間に差異がないことを確認します\n",
    "- ノートブックでテストを実行します\n",
    "\n",
    "CIステップのいずれかを変更する必要がある場合は、ファイル `.github/workflows/main.yml` を編集します。\n",
    "\n",
    "赤い十字がある場合、それは何かが失敗したことを意味します。 十字形をクリックし、*Details* をクリックすると、何が失敗したかを確認できます。"
   ]
  },
  {
   "cell_type": "markdown",
   "metadata": {},
   "source": [
    "### ドキュメントとReadmeの表示"
   ]
  },
  {
   "cell_type": "markdown",
   "metadata": {},
   "source": [
    "すべてが合格したら、Githubでreadmeを確認してください。\n",
    "`index.ipynb` ファイルが自動的にreadmeに変換されていることがわかります。\n",
    "\n",
    "次に、ドキュメントサイトに移動します（たとえば、以前に作成した説明の横にあるリンクをクリックするなど）。\n",
    "インデックスノートブックもここで使用されているはずです。\n",
    "\n",
    "おめでとうございます。\n",
    "これで基本がすべて整いました。\n",
    "続けて、さらに高度な機能をいくつか使用してみましょう。"
   ]
  },
  {
   "cell_type": "markdown",
   "metadata": {},
   "source": [
    "## class の追加"
   ]
  },
  {
   "cell_type": "markdown",
   "metadata": {},
   "source": [
    "次のように、`00_core.ipynb` にクラスを作成します:\n",
    "\n",
    "```python\n",
    "class HelloSayer:\n",
    "    \"Say hello to `to` using `say_hello`\"\n",
    "    def __init__(self, to): self.to = to\n",
    "    def say(self): say_hello(self.to)\n",
    "```\n",
    "\n",
    "これは自動的に次のようなドキュメントに表示されます："
   ]
  },
  {
   "cell_type": "code",
   "execution_count": null,
   "metadata": {},
   "outputs": [],
   "source": [
    "#export\n",
    "class HelloSayer:\n",
    "    \"Say hello to `to` using `say_hello`\"\n",
    "    def __init__(self, to): self.to = to\n",
    "        \n",
    "    def say(self):\n",
    "        \"Do the saying\"\n",
    "        say_hello(self.to)"
   ]
  },
  {
   "cell_type": "markdown",
   "metadata": {},
   "source": [
    "### show_docを使用したドキュメント"
   ]
  },
  {
   "cell_type": "markdown",
   "metadata": {},
   "source": [
    "ただし、メソッドは自動的に文書化されません。 メソッドドキュメントを追加するには、`show_doc` を使用します。\n",
    "\n",
    "```python\n",
    "from nbdev.showdoc import *\n",
    "show_doc(HelloSayer.say)\n",
    "```"
   ]
  },
  {
   "cell_type": "code",
   "execution_count": null,
   "metadata": {},
   "outputs": [
    {
     "data": {
      "text/markdown": [
       "<h4 id=\"HelloSayer.say\" class=\"doc_header\"><code>HelloSayer.say</code><a href=\"__main__.py#L6\" class=\"source_link\" style=\"float:right\">[source]</a></h4>\n",
       "\n",
       "> <code>HelloSayer.say</code>()\n",
       "\n",
       "Do the saying"
      ],
      "text/plain": [
       "<IPython.core.display.Markdown object>"
      ]
     },
     "metadata": {},
     "output_type": "display_data"
    }
   ],
   "source": [
    "from nbdev.showdoc import *\n",
    "show_doc(HelloSayer.say)"
   ]
  },
  {
   "cell_type": "markdown",
   "metadata": {},
   "source": [
    "そして、いくつかの例やテストを追加します："
   ]
  },
  {
   "cell_type": "code",
   "execution_count": null,
   "metadata": {},
   "outputs": [],
   "source": [
    "o = HelloSayer(\"Alexis\")\n",
    "o.say()"
   ]
  },
  {
   "cell_type": "markdown",
   "metadata": {},
   "source": [
    "## バッククォート付きリンクの追加"
   ]
  },
  {
   "cell_type": "markdown",
   "metadata": {},
   "source": [
    "上記の告知には、新しいクラスのドキュメントから関数へのリンクがあります。 これは、docstringでバッククォートを使用したためです。\n",
    "\n",
    "     \"Say hello to `to` using `say_hello`\"\n",
    "\n",
    "これらは可能な限りハイパーリンクに自動的に変換されます。 たとえば、これは、バッククォートを使用して作成された `HelloSayer`と` say_hello`へのハイパーリンクです。"
   ]
  },
  {
   "cell_type": "markdown",
   "metadata": {},
   "source": [
    "## 自動再読み込みの設定"
   ]
  },
  {
   "cell_type": "markdown",
   "metadata": {},
   "source": [
    "あるノートブックでモジュールを頻繁に更新し、別のノートブックでそれを使用する場合、\n",
    "pythonファイルが変更されるとすぐに、ノートブックが新しいモジュールを自動的に読み込むと便利です。\n",
    "これを実現するには、次の行をノートブックの上部に追加します。\n",
    "\n",
    "```\n",
    "%load_ext autoreload\n",
    "%autoreload 2\n",
    "```"
   ]
  },
  {
   "cell_type": "markdown",
   "metadata": {},
   "source": [
    "## ノートブック内へのエクスポートセルの追加"
   ]
  },
  {
   "cell_type": "markdown",
   "metadata": {},
   "source": [
    "ターミナルに移動するのではなく、ノートブックから直接すべてのモジュールをエクスポートできると便利です。\n",
    "すべてのnbdevコマンドは、Pythonのノートブックから直接利用できます。\n",
    "これらの行を任意のセルに追加し、実行してモジュールをエクスポートします\n",
    "（通常、これをスクリプトの最後のセルにします）。\n",
    "\n",
    "```python\n",
    "from nbdev.export import notebook2script\n",
    "notebook2script()\n",
    "```"
   ]
  },
  {
   "cell_type": "markdown",
   "metadata": {},
   "source": [
    "## 並行したテストの実行"
   ]
  },
  {
   "cell_type": "markdown",
   "metadata": {},
   "source": [
    "githubにプッシュするかリリースを作成する前に、すべてのテストを実行することをお勧めします。\n",
    "nbdevは、すべてのノートブックを並行して実行してエラーをチェックできます。\n",
    "ターミナルで `nbdev_test_nbs` を実行するだけです。\n",
    "\n",
    "```\n",
    "(base) jhoward@usf3:~/git/nbdev$ nbdev_test_nbs\n",
    "testing: /home/jhoward/git/nbdev/nbs/00_core.ipynb\n",
    "testing: /home/jhoward/git/nbdev/nbs/index.ipynb\n",
    "All tests are passing!\n",
    "```"
   ]
  },
  {
   "cell_type": "markdown",
   "metadata": {},
   "source": [
    "## ローカルでドキュメントの表示"
   ]
  },
  {
   "cell_type": "markdown",
   "metadata": {},
   "source": [
    "Githubにプッシュする前にローカルでドキュメントを確認したい場合は、jekyllサーバーを実行して確認できます。\n",
    "まず、[次の手順](https://jekyllrb.com/docs/installation/ubuntu/) でJekyllをインストールします。\n",
    "次に、 `docs` ディレクトリに `cd`し、 `bundle install` と入力して、nbdevドキュメントを提供するために必要なモジュールをインストールします。\n",
    "最後に、リポジトリルートにcdして、 `make docs_serve` と入力します。\n",
    "これにより、ポート4000（デフォルト）でサーバーが起動し、ブラウザーで接続してドキュメントを表示できます。\n",
    "\n",
    "Github pages がドキュメントの構築に失敗した場合、Jekyllを使用してローカルで実行することが、問題が何であるかを見つける最も簡単な方法です。"
   ]
  },
  {
   "cell_type": "markdown",
   "metadata": {},
   "source": [
    "## 前提条件の設定"
   ]
  },
  {
   "cell_type": "markdown",
   "metadata": {},
   "source": [
    "モジュールが他のモジュールを依存関係として必要とする場合、`settings.ini`の`requirements`セクションにそれらの前提条件を追加できます。\n",
    "これは[setuptools のinstall_requires](https://packaging.python.org/discussions/install-requires-vs-requirements/#install-requires) と同じ形式で、各要件はスペースで区切られている必要があります。"
   ]
  },
  {
   "cell_type": "markdown",
   "metadata": {},
   "source": [
    "## コンソールスクリプトの設定"
   ]
  },
  {
   "cell_type": "markdown",
   "metadata": {},
   "source": [
    "バックグラウンドでは、nbdevは、モジュールのインストールを処理するために標準パッケージのsetuptoolsを使用します。\n",
    "setuptoolsの非常に便利な機能の1つは、クロスプラットフォームコンソールスクリプトを自動的に作成できることです。\n",
    "nbdevはこの機能を表面化します。 これを使用するには、setuptoolsと同じ形式を使用し、各スクリプト定義の間に空白を入れます（複数ある場合）。\n",
    "\n",
    "```\n",
    "console_scripts = nbdev_build_lib=nbdev.cli:nbdev_build_lib\n",
    "```"
   ]
  },
  {
   "cell_type": "markdown",
   "metadata": {},
   "source": [
    "## 編集可能なインストールのテスト"
   ]
  },
  {
   "cell_type": "markdown",
   "metadata": {},
   "source": [
    "他のプロジェクトでモジュールをテストして使用し、コンソールスクリプト（ある場合）を使用するには、[編集可能なインストール](http://codumentary.blogspot.com/2014/11/python-tip-of-year-pip-install-editable.html)。\n",
    "これを行うには、ターミナルでリポジトリのルートに `cd` して、次のように入力します。\n",
    "\n",
    "     pip install -e .\n",
    "\n",
    "（後続期間が重要であることに注意してください。）\n",
    "モジュールの変更は、再インストールしなくても自動的に取得されます。\n",
    "追加のコンソールスクリプトを追加する場合は、このコマンドを再度実行する必要があります。"
   ]
  },
  {
   "cell_type": "markdown",
   "metadata": {},
   "source": [
    "## pypi へアップロード"
   ]
  },
  {
   "cell_type": "markdown",
   "metadata": {},
   "source": [
    "`pip install your-project` と入力するだけでプロジェクトをインストールできるようにしたい場合は、[pypi](https://pypi.org/) にアップロードする必要があります。 \n",
    "良いニュースは、あなたのプロジェクト用に完全にpypiに準拠したインストーラーがすでに作成されていることです！\n",
    "ですので、まだ行っていない場合は、pypiで登録する（pypiで\"Register\"をクリックする）だけでよく、ログインの詳細を含む `~/.pypirc` というファイルを作成します。 \n",
    "次の内容である必要があります。\n",
    "\n",
    "```\n",
    "[pypi]\n",
    "username = your_pypi_username\n",
    "password = your_pypi_password\n",
    "```\n",
    "\n",
    "プロジェクトをpypiにアップロードするには、プロジェクトのルートディレクトリに `make release` と入力するだけです。 完了すると、pypi上のプロジェクトへのリンクが出力されます。\n",
    "\n",
    "**注意**： `make release` は、新しいリリースをpypiにプッシュする前に、`settings.py` のバージョン番号を自動的にインクリメントします。 \n",
    "これを実行したくない場合は、代わりに `make pypi` を実行してください。"
   ]
  },
  {
   "cell_type": "markdown",
   "metadata": {},
   "source": [
    "## 折りたたみ可能な見出しとtoc2のインストール"
   ]
  },
  {
   "cell_type": "markdown",
   "metadata": {},
   "source": [
    "このようなプロジェクトで作業するときに強くお勧めする2つのjupyterノートブック拡張機能があります。\n",
    "これらです：\n",
    "\n",
    "- [折りたたみ可能な見出し](https://jupyter-contrib-nbextensions.readthedocs.io/en/latest/nbextensions/collapsible_headings/readme.html)：\n",
    "これにより、マークダウンの見出しに基づいて、ノートブックの各セクションを折りたたんだり展開したりできます。\n",
    "また、<kbd>left</kbd>　を押してセクションの先頭に移動し、<kbd>right</kbd>　を押して末尾に移動することもできます\n",
    "- [TOC2](https://jupyter-contrib-nbextensions.readthedocs.io/en/latest/nbextensions/toc2/README.html)：\n",
    "これにより、ノートブックに目次が追加され、ノートブックに追加する`Navigate`メニュー項目または追加する目次サイドバーのいずれかを使用してナビゲートできます。\n",
    "これらは、その設定を使用して変更または非表示にすることができます。"
   ]
  },
  {
   "cell_type": "markdown",
   "metadata": {},
   "source": [
    "## その他のアイデアについては、nbdevの\"ソース\"を参照"
   ]
  },
  {
   "cell_type": "markdown",
   "metadata": {},
   "source": [
    "nbdev自体がnbdevで書かれていることを忘れないでください！\n",
    "これは、fast.aiが実際にそれをどのように使用しているかを確認し、いくつかのヒントを得るための良い場所です。\n",
    "nbdevノートブックは、Githubの[nbsフォルダー](https://github.com/fastai/nbdev/tree/master/nbdev) にあります。"
   ]
  },
  {
   "cell_type": "code",
   "execution_count": null,
   "metadata": {},
   "outputs": [],
   "source": []
  }
 ],
 "metadata": {
  "jekyll": {
   "keywords": "fastai",
   "toc": "false"
  },
  "jupytext": {
   "split_at_heading": true
  },
  "kernelspec": {
   "display_name": "Environment (conda_pytorch131)",
   "language": "python",
   "name": "conda_pytorch131"
  },
  "language_info": {
   "codemirror_mode": {
    "name": "ipython",
    "version": 3
   },
   "file_extension": ".py",
   "mimetype": "text/x-python",
   "name": "python",
   "nbconvert_exporter": "python",
   "pygments_lexer": "ipython3",
   "version": "3.7.5"
  }
 },
 "nbformat": 4,
 "nbformat_minor": 4
}
