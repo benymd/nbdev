{
 "cells": [
  {
   "cell_type": "markdown",
   "metadata": {},
   "source": [
    "# nbdev へようこそ\n",
    "\n",
    "> Jupyter Notebooks を使用して楽しい python プロジェクトを作成します"
   ]
  },
  {
   "cell_type": "markdown",
   "metadata": {},
   "source": [
    "`nbdev` は 完全に [Jupyter Notebooks](https://jupyter.org/) で開発した、すべてのコード、テスト、ドキュメントを1か所にまとめることができるライブラリです。つまり、1983年にドナルド・クヌースが思い描いていたように、本当の意味での [文芸的プログラミング](https://en.wikipedia.org/wiki/Literate_programming)環境が手に入りました。\n",
    "\n",
    "インタラクティブ環境を使用すると、コードを簡単にデバッグしてリファクタリングできます。あなたの Pythonモジュールに含めたい関数を定義するセルに、`#export` フラグを追加します。ここでは、たとえば、`fastai` ライブラリで `combined_cos` がでどのように定義および文書化されているかを示します。"
   ]
  },
  {
   "cell_type": "markdown",
   "metadata": {},
   "source": [
    "<img alt=\"Exporting from nbdev\" width=\"700\" caption=\"An example of a function defined in one cell (marked with the export flag) and explained, along with a visual example, in the following cells\" src=\"images/export_example.png\" />"
   ]
  },
  {
   "cell_type": "markdown",
   "metadata": {},
   "source": [
    "このように記述されたノートブックを使用すると、`nbdev` は、1つのコマンドで次のいずれかを作成して実行できます。\n",
    "\n",
    "- 検索可能なハイパーリンクされたドキュメント; バッククォートで囲む単語は、適切なドキュメントに *自動的に* ハイパーリンクされます。\n",
    "- Pythonモジュール、エクスポートされた関数、クラス、変数を使用して自動的に定義する `__all__` （[詳細](http://xion.io/post/code/python-all-wild-imports.html)）\n",
    "- Pip インストーラー （pypi にアップロードされます）\n",
    "- テスト（ノートプックで直接定義され、並行して実行されます）\n",
    "- 標準のテキストエディターまたはIDEでコードを操作・編集し、ノートブックに対して自動的に変更内容をエクスポートします。\n",
    "\n",
    "ノートブックを使用しているため、あなたのライブラリのドキュメントに含まれる、グラフ、テキスト、リンク、画像、ビデオなどを自動的に追加することもできます。コードが定義されているセルは非表示になり、関数の名前、引数、docstring、および github 上のソースコードへのリンクなど、関数の標準化されたドキュメントに置き換えられます。たとえば上記のセルは、次のように変換されます："
   ]
  },
  {
   "cell_type": "markdown",
   "metadata": {},
   "source": [
    "<img alt=\"Documentation in nbdev\" width=\"600\" caption=\"An example of automated documentation from the fastai library\" src=\"images/doc_example.png\" />"
   ]
  },
  {
   "cell_type": "markdown",
   "metadata": {},
   "source": [
    "*インストール* と *入門* については、以下を参照してください。ドキュメントの他のページでは、次の詳細を取得できます:\n",
    "\n",
    "- jupyter notebooks から pythonライブラリに[export](http://nbdev.fast.ai/export)する機能\n",
    "- [cli](http://nbdev.fast.ai/cli) コマンドはターミナルで nbdev を使用することができます\n",
    "- [export2html](http://nbdev.fast.ai/export2html) がライブラリのドキュメントを構築する方法\n",
    "- [sync](http://nbdev.fast.ai/sync) によって Python モジュールから jupyter notebook にエクスポートする方法\n",
    "- 並行して実行でき、ノートブックからCIにエクスポートできる[tests](http://nbdev.fast.ai/test)をノートブックに配置する方法\n",
    "- [追加機能](http://nbdev.fast.ai/#Additional-functionality) に関する詳細情報を入手する"
   ]
  },
  {
   "cell_type": "markdown",
   "metadata": {},
   "source": [
    "## インストール"
   ]
  },
  {
   "cell_type": "markdown",
   "metadata": {},
   "source": [
    "nbdev は PyPI 上いあるため、次のように実行できます:\n",
    "```\n",
    "pip install nbdev\n",
    "```\n",
    "\n",
    "[編集可能なインストール](https://stackoverflow.com/questions/35064426/when-would-the-e-editable-option-be-useful-with-pip-install) のためには、以下のコマンドを使用します:\n",
    "\n",
    "```\n",
    "git clone https://github.com/fastai/nbdev\n",
    "pip install -e nbdev\n",
    "```"
   ]
  },
  {
   "cell_type": "markdown",
   "metadata": {},
   "source": [
    "## 入門"
   ]
  },
  {
   "cell_type": "markdown",
   "metadata": {},
   "source": [
    "独自のプロジェクトを開始するには:\n",
    "\n",
    "- GitHub の場合は[ここ](https://github.com/fastai/nbdev_template/generate) をクリックしてください （このリンクが機能するためには、GitHub にログインする必要があります）。\n",
    "- GitLab の場合は[ここ](https://gitlab.com/thomas.capelle/nbdev_template/generate) をクリックしてください。（このリンクが機能するためには、GitLab にログインする必要があります）。\n",
    "\n",
    "要求された情報を入力し、*Create repository from template* をクリックすると、新しいGitHub または　GitLab リポジトリが作成されます。\n",
    "\n",
    "**注意：** プロジェクトの名前は、nbdevによって生成されたPythonパッケージの名前になります。そのため、単語間に _ダッシュを付けずに_ 、すべて小文字の短い名前を選択することをお勧めします（アンダースコアは使用できます）。\n",
    "\n",
    "次に、ターミナルを開き、作成したリポジトリを複製します。\n",
    "\n",
    "または、cliコマンド `nbdev_new` を使用して、新しいnbdevプロジェクトを作成し、githubリポジトリを作成せずにgitリポジトリをローカルで初期化できます。\n",
    "\n",
    "次に、`settings.ini` ファイルを編集します。\n",
    "ライブラリをパッケージ化する準備が整ったときに必要なすべての情報が含まれているため、テンプレートによって提供される `setup.py`ファイルを変更する必要はありません。\n",
    "基本的な構造（`settings.ini`で関連情報を変更すればパーソナライズできます）は、リポジトリのルートにノートブックが含まれることと、ドキュメントが自動生成されるフォルダ `docs` が含まれることです。\n",
    "それは [jekyll](https://jekyllrb.com/) で動くWebサイトのためのすべてを含んでいます。\n",
    "[GitHub PagesはJekyllをサポートしている](https://help.github.com/en/github/working-with-github-pages/setting-up-a-github-pages-site-with-jekyll)ため、追加の設定なしでGitHubでサイトを無料でホストできます。\n",
    "\n",
    "`settings.ini` はnbdev の必須構成情報のすべての部分を探す場所です。\n",
    "それを編集したら、コマンド `nbdev_build_lib` を実行します（`nbdev` のインストール時に自動的にインストールされます。\n",
    "これで、 `settings.ini`で` lib_name`に設定した名前の新しいディレクトリが作成されました。\n",
    "\n",
    "次に、 `jupyter notebook`を実行し、` 00_core.ipynb` をクリックします。\n",
    "ここで、最初のモジュールを作成します。\n",
    "他のノートブックと同じようにJupyterセルを作成します。\n",
    "Pythonモジュールに含めるセルの場合、セルの最初の行として `#export` と入力します。\n",
    "作成する新しい.ipynbの場合は、 `＃default_exp target_module_name`も入力する必要があります。これにより、生成されたモジュールの名前が定義されます（lib_name/target_module_name.py）。\n",
    "\n",
    "ノートブックの最後のセルで、次を実行できます。"
   ]
  },
  {
   "cell_type": "code",
   "execution_count": null,
   "metadata": {},
   "outputs": [
    {
     "name": "stdout",
     "output_type": "stream",
     "text": [
      "Converted 00_export.ipynb.\n",
      "Converted 01_sync.ipynb.\n",
      "Converted 02_showdoc.ipynb.\n",
      "Converted 03_export2html.ipynb.\n",
      "Converted 04_test.ipynb.\n",
      "Converted 05_merge.ipynb.\n",
      "Converted 06_cli.ipynb.\n",
      "Converted 07_clean.ipynb.\n",
      "Converted 99_search.ipynb.\n",
      "Converted index.ipynb.\n",
      "Converted index_ja.ipynb.\n",
      "Converted tutorial.ipynb.\n",
      "Converted tutorial_ja.ipynb.\n"
     ]
    }
   ],
   "source": [
    "from nbdev.export import *\n",
    "notebook2script()"
   ]
  },
  {
   "cell_type": "markdown",
   "metadata": {},
   "source": [
    "または、ライブラリを開発しているフォルダーのどこかにいる限り、コマンドラインで次のコマンドを実行できます:\n",
    "``` bash\n",
    "nbdev_build_lib\n",
    "```\n",
    "\n",
    "これらのどちらでも同じことが行われます。エクスポートしたすべてのセルをノートブックに含めるようにモジュールを更新します。\n",
    "\n",
    "GitHubリポジトリでドキュメントを有効にするには、メインリポジトリページの'Settings'をクリックし、'GitHub Pages'までスクロールして、'Source'の下で 'master branch /docs folder' を選択します。\n",
    "GitHubは作業中のドキュメントサイトへのリンクを表示します。\n",
    "\n",
    "最後に、`index.ipynb`を編集します。\n",
    "これはプロジェクトの *README* ファイルに変換され、ドキュメントのインデックスにもなります（現在読んでいるページは、実際には `index.ipynb` ファイルから取得されます！）\n",
    "あなたはこのライブラリにエクスポートしたモジュールを使用できます。つまり、実際に機能するコードと実際の出力を表示できます。\n",
    "必要なものがすべて揃ったら、ターミナルで `nbdev_build_docs` を実行します。\n",
    "これにより、ノートブックのHTMLバージョンが `docs` ディレクトリにエクスポートされ、バッククォート内の単語（モジュールに存在する限り）のハイパーリンクが作成されます。\n",
    "また、作成したすべてのノートブックのメニューと、それぞれの目次も作成します。"
   ]
  },
  {
   "cell_type": "markdown",
   "metadata": {},
   "source": [
    "#### プロジェクトルートの代わりにサブディレクトリを使用して.ipynbファイルを含める場合\n",
    "\n",
    "パラメータnbs_pathをプロジェクトルート以外に設定した場合、追加の手順なしに生成されたモジュールをインポートすることはできません。\n",
    "- これらのモジュールをローカルにインストールします。これは、それらの相対インポートによりトップレベルのパッケージを超えてしまうためです。これは、プロジェクトルートで `pip install -e .` を実行して、編集可能なモードで環境にモジュールをインストールすることで実行できます。\n",
    "- または、ノートブックフォルダーにライブラリフォルダーへのsimlinkを作成します。これは、 `ln -s lib_path lib_name`を実行することで実行できます（`lib_path`と `lib_name`をユースケースに合わせて調整します）。"
   ]
  },
  {
   "cell_type": "markdown",
   "metadata": {},
   "source": [
    "## 追加機能"
   ]
  },
  {
   "cell_type": "markdown",
   "metadata": {},
   "source": [
    "`nbdev` には多くの機能があります。 すべての機能については、サイドバーの各モジュールのドキュメントをご覧ください。 ここでは、couple を簡単に紹介します。"
   ]
  },
  {
   "cell_type": "markdown",
   "metadata": {},
   "source": [
    "### プロジェクトをpypiに追加する"
   ]
  },
  {
   "cell_type": "markdown",
   "metadata": {},
   "source": [
    "`pip install your-project` と入力するだけでプロジェクトをインストールできるようにするには、[pypi](https://pypi.org/) にアップロードする必要があります。\n",
    "良いニュースは、あなたのプロジェクト用に完全にpypiに準拠したインストーラーがすでに作成されていることです！\n",
    "そのため、行う必要があるのは、pypiに登録していない場合は、それを登録し、ログインの詳細を含む `~/.pypirc` というファイルを作成することだけです。 これらのコンテンツが必要です\n",
    "\n",
    "```\n",
    "[pypi]\n",
    "username = your_pypi_username\n",
    "password = your_pypi_password\n",
    "```\n",
    "\n",
    "もう1つ必要なのは `twine` なので、一度実行する必要があります。\n",
    "```\n",
    "pip install twine\n",
    "```\n",
    "\n",
    "プロジェクトをpypiにアップロードするには、プロジェクトのルートディレクトリに`make pypi`と入力するだけです。 完了すると、pypi上のプロジェクトへのリンクが出力されます。\n",
    "\n",
    "**注意：** 新しいリリースをpypiにプッシュするたびに、`settings.py` のバージョン番号をインクリメントしてください。"
   ]
  },
  {
   "cell_type": "markdown",
   "metadata": {},
   "source": [
    "### Gitの競合の回避と処理"
   ]
  },
  {
   "cell_type": "markdown",
   "metadata": {},
   "source": [
    "Jupyter Notebookはgitの競合で問題を引き起こす可能性がありますが、 `nbdev`を使用すると作業がはるかに簡単になります。\n",
    "最初のステップとして、プロジェクトフォルダーからターミナルで `nbdev_install_git_hooks`を実行します。\n",
    "これにより、コミット時にノートブックからメタデータを削除するgitフックが設定され、競合が発生する可能性が大幅に減少します。\n",
    "\n",
    "ただし、競合が発生した場合は、 `nbdev_fix_merge filename.ipynb` を実行してください。\n",
    "これにより、セル出力の競合がバージョンに置き換えられます。入力セルに競合がある場合、両方のセルが標準の競合マーカー（`=====`など）とともにマージされたファイルに含まれます。\n",
    "次に、Jupyterでノートブックを開き、保持するバージョンを選択できます。"
   ]
  },
  {
   "cell_type": "markdown",
   "metadata": {},
   "source": [
    "### CIの一部としてnbdevを使用する"
   ]
  },
  {
   "cell_type": "markdown",
   "metadata": {},
   "source": [
    "[GitHub actions](https://github.com/features/actions)を使用して、nbdevの機能を活用し、次のようなCIを簡単に作成できます:\n",
    "\n",
    "- ノートブックが読み取り可能であることを確認します（`nbdev_read_nbs`を使用）\n",
    "- （`nbdev_clean_nbs`を使用して）マージの競合を回避するために、ノートブックから不要なメタデータが削除されていることを確認してください\n",
    "- ノートブックとエクスポートされたライブラリの間に差異がないことを確認します（`nbdev_diff_nbs`を使用）\n",
    "- ノートブックでテストを実行します（`nbdev_test_nbs`を使用）\n",
    "\n",
    "テンプレートには、上記の4つのポイントを使用する基本的なCIが含まれています。ファイル `.github/workflows/main.yml` を好みに合わせて編集し、不要な部分をコメント化します。"
   ]
  },
  {
   "cell_type": "markdown",
   "metadata": {},
   "source": [
    "### 数学方程式のサポート"
   ]
  },
  {
   "cell_type": "markdown",
   "metadata": {},
   "source": [
    "nbdevは方程式をサポートしています（優れた[KaTeX library](https://katex.org/)を使用しています）。 `_config.yml`の` use_math：true` で有効にします（デフォルトで有効になっています）。\n",
    "以下の方法を使用して、ノートブックのドキュメントに数学を含めることができます。"
   ]
  },
  {
   "cell_type": "markdown",
   "metadata": {},
   "source": [
    "`$$` を使用して、たとえば:\n",
    "\n",
    "```\n",
    "$$\\sum_{i=1}^{k+1}i$$\n",
    "```\n",
    "\n",
    "これは次のようにレンダリングされます:\n",
    "\n",
    "> $$\\sum_{i=1}^{k+1}i$$"
   ]
  },
  {
   "cell_type": "markdown",
   "metadata": {},
   "source": [
    "`$`を使用して、たとえば:\n",
    "\n",
    "```\n",
    "このバージョンはインラインで表示されます: $\\sum_{i=1}^{k+1}i$ 。 前後にテキストを含めることができます。\n",
    "```\n",
    "\n",
    "これは次のようにレンダリングされます:"
   ]
  },
  {
   "cell_type": "markdown",
   "metadata": {},
   "source": [
    "> このバージョンはインラインで表示されます:$\\sum_{i=1}^{k+1}i$ . 前後にテキストを含めることができます。"
   ]
  },
  {
   "cell_type": "markdown",
   "metadata": {},
   "source": [
    "### カスタム検索エンジン"
   ]
  },
  {
   "cell_type": "markdown",
   "metadata": {},
   "source": [
    "ドキュメントサイトに検索を追加するために、nbdevは[Google Custom Search](https://cse.google.com/cse/all)をサポートしています。これには、検索クエリを入力するときのオートコンプリートが含まれます。 このページの上部にある検索ボックスを使用して試してみることができます。\n",
    "\n",
    "検索エンジンの作成を完全に自動化することはできませんが（Googleにログインして行う必要があるため）、これは非常に簡単になりました。\n",
    "実行する必要がある手順は次のとおりです。：[Setting up search](https://nbdev.fast.ai/search)"
   ]
  },
  {
   "cell_type": "markdown",
   "metadata": {},
   "source": [
    "## 貢献する"
   ]
  },
  {
   "cell_type": "markdown",
   "metadata": {},
   "source": [
    "`nbdev`に寄稿したい場合は、[contributions guidelines](https://github.com/fastai/nbdev/blob/master/CONTRIBUTING.md)を確認してください。\n",
    "このプロジェクトは、fastaiの[code of conduct](https://github.com/fastai/nbdev/blob/master/CODE-OF-CONDUCT.md) に準拠しています。\n",
    "参加することにより、あなたはこのコードを守ることが期待されます。\n",
    "一般に、fastaiプロジェクトは、オープンソースソフトウェア開発で一般に受け入れられているベストプラクティスを遵守するよう努めています。\n",
    "\n",
    "クローンされたリポジトリフォルダ内で、次のコマンドを実行して、使用するgitフックがインストールされていることを確認してください。\n",
    "```\n",
    "nbdev_install_git_hooks\n",
    "```"
   ]
  },
  {
   "cell_type": "markdown",
   "metadata": {},
   "source": [
    "## 著作権"
   ]
  },
  {
   "cell_type": "markdown",
   "metadata": {},
   "source": [
    "Copyright 2019 onwards, fast.ai, Inc. Licensed under the Apache License, Version 2.0 (the \"License\"); \n",
    "\n",
    "あなたはライセンスに準拠する場合を除き、このプロジェクトのファイルを使用することはできません。 ライセンスのコピーは、このリポジトリのLICENSEファイルで提供されます。"
   ]
  }
 ],
 "metadata": {
  "jekyll": {
   "keywords": "fastai",
   "toc": "false"
  },
  "jupytext": {
   "split_at_heading": true
  },
  "kernelspec": {
   "display_name": "Environment (conda_pytorch131)",
   "language": "python",
   "name": "conda_pytorch131"
  }
 },
 "nbformat": 4,
 "nbformat_minor": 4
}
